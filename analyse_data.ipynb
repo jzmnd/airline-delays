{
 "cells": [
  {
   "cell_type": "code",
   "execution_count": 1,
   "metadata": {
    "collapsed": false,
    "deletable": true,
    "editable": true
   },
   "outputs": [],
   "source": [
    "%matplotlib inline"
   ]
  },
  {
   "cell_type": "code",
   "execution_count": 2,
   "metadata": {
    "collapsed": false,
    "deletable": true,
    "editable": true
   },
   "outputs": [],
   "source": [
    "import os\n",
    "import sys\n",
    "import numpy as np\n",
    "import pandas as pd\n",
    "import matplotlib.pyplot as plt\n",
    "import seaborn as sns\n",
    "import statsmodels\n",
    "from maskfunctions import create_mask\n",
    "from scipy.stats import lognorm\n",
    "from scipy.stats import gamma"
   ]
  },
  {
   "cell_type": "code",
   "execution_count": 3,
   "metadata": {
    "collapsed": true,
    "deletable": true,
    "editable": true
   },
   "outputs": [],
   "source": [
    "# Location and names of data files\n",
    "data_dir = \"/Users/jeremysmith/Documents/BTS_Airline_Data/\"\n",
    "file_pre = \"On_Time_On_Time_Performance_2016\"\n",
    "path_airports = os.path.join(data_dir, \"airports.dat\")\n",
    "path_emplanes = os.path.join(data_dir, \"cy15-commercial-service-enplanements.csv\")"
   ]
  },
  {
   "cell_type": "code",
   "execution_count": 4,
   "metadata": {
    "collapsed": false,
    "deletable": true,
    "editable": true
   },
   "outputs": [],
   "source": [
    "# Delay Data\n",
    "data_list = []\n",
    "usecols = [2,3,4,5,8,10,14,23,31,33,36,39,42,44,47,52,54,56,57,58,59,60]\n",
    "for month in range(12):\n",
    "    file_month = \"{:s}_{:02d}\".format(file_pre, month + 1)\n",
    "    path_month = os.path.join(data_dir, file_month, file_month + \".csv\")\n",
    "    data_list.append(pd.read_csv(path_month, usecols=usecols))\n",
    "data_delays = pd.concat(data_list, ignore_index=True)"
   ]
  },
  {
   "cell_type": "code",
   "execution_count": 5,
   "metadata": {
    "collapsed": false,
    "deletable": true,
    "editable": true
   },
   "outputs": [
    {
     "data": {
      "text/html": [
       "<div>\n",
       "<table border=\"1\" class=\"dataframe\">\n",
       "  <thead>\n",
       "    <tr style=\"text-align: right;\">\n",
       "      <th></th>\n",
       "      <th>Month</th>\n",
       "      <th>DayofMonth</th>\n",
       "      <th>DayOfWeek</th>\n",
       "      <th>FlightDate</th>\n",
       "      <th>Carrier</th>\n",
       "      <th>FlightNum</th>\n",
       "      <th>Origin</th>\n",
       "      <th>Dest</th>\n",
       "      <th>DepDelay</th>\n",
       "      <th>DepDel15</th>\n",
       "      <th>...</th>\n",
       "      <th>ArrDelay</th>\n",
       "      <th>ArrDel15</th>\n",
       "      <th>Cancelled</th>\n",
       "      <th>AirTime</th>\n",
       "      <th>Distance</th>\n",
       "      <th>CarrierDelay</th>\n",
       "      <th>WeatherDelay</th>\n",
       "      <th>NASDelay</th>\n",
       "      <th>SecurityDelay</th>\n",
       "      <th>LateAircraftDelay</th>\n",
       "    </tr>\n",
       "  </thead>\n",
       "  <tbody>\n",
       "    <tr>\n",
       "      <th>0</th>\n",
       "      <td>1</td>\n",
       "      <td>6</td>\n",
       "      <td>3</td>\n",
       "      <td>2016-01-06</td>\n",
       "      <td>AA</td>\n",
       "      <td>43</td>\n",
       "      <td>DFW</td>\n",
       "      <td>DTW</td>\n",
       "      <td>-3.0</td>\n",
       "      <td>0.0</td>\n",
       "      <td>...</td>\n",
       "      <td>-6.0</td>\n",
       "      <td>0.0</td>\n",
       "      <td>0.0</td>\n",
       "      <td>132.0</td>\n",
       "      <td>986.0</td>\n",
       "      <td>NaN</td>\n",
       "      <td>NaN</td>\n",
       "      <td>NaN</td>\n",
       "      <td>NaN</td>\n",
       "      <td>NaN</td>\n",
       "    </tr>\n",
       "    <tr>\n",
       "      <th>1</th>\n",
       "      <td>1</td>\n",
       "      <td>7</td>\n",
       "      <td>4</td>\n",
       "      <td>2016-01-07</td>\n",
       "      <td>AA</td>\n",
       "      <td>43</td>\n",
       "      <td>DFW</td>\n",
       "      <td>DTW</td>\n",
       "      <td>-4.0</td>\n",
       "      <td>0.0</td>\n",
       "      <td>...</td>\n",
       "      <td>-12.0</td>\n",
       "      <td>0.0</td>\n",
       "      <td>0.0</td>\n",
       "      <td>126.0</td>\n",
       "      <td>986.0</td>\n",
       "      <td>NaN</td>\n",
       "      <td>NaN</td>\n",
       "      <td>NaN</td>\n",
       "      <td>NaN</td>\n",
       "      <td>NaN</td>\n",
       "    </tr>\n",
       "    <tr>\n",
       "      <th>2</th>\n",
       "      <td>1</td>\n",
       "      <td>8</td>\n",
       "      <td>5</td>\n",
       "      <td>2016-01-08</td>\n",
       "      <td>AA</td>\n",
       "      <td>43</td>\n",
       "      <td>DFW</td>\n",
       "      <td>DTW</td>\n",
       "      <td>-5.0</td>\n",
       "      <td>0.0</td>\n",
       "      <td>...</td>\n",
       "      <td>7.0</td>\n",
       "      <td>0.0</td>\n",
       "      <td>0.0</td>\n",
       "      <td>135.0</td>\n",
       "      <td>986.0</td>\n",
       "      <td>NaN</td>\n",
       "      <td>NaN</td>\n",
       "      <td>NaN</td>\n",
       "      <td>NaN</td>\n",
       "      <td>NaN</td>\n",
       "    </tr>\n",
       "    <tr>\n",
       "      <th>3</th>\n",
       "      <td>1</td>\n",
       "      <td>9</td>\n",
       "      <td>6</td>\n",
       "      <td>2016-01-09</td>\n",
       "      <td>AA</td>\n",
       "      <td>43</td>\n",
       "      <td>DFW</td>\n",
       "      <td>DTW</td>\n",
       "      <td>2.0</td>\n",
       "      <td>0.0</td>\n",
       "      <td>...</td>\n",
       "      <td>-5.0</td>\n",
       "      <td>0.0</td>\n",
       "      <td>0.0</td>\n",
       "      <td>129.0</td>\n",
       "      <td>986.0</td>\n",
       "      <td>NaN</td>\n",
       "      <td>NaN</td>\n",
       "      <td>NaN</td>\n",
       "      <td>NaN</td>\n",
       "      <td>NaN</td>\n",
       "    </tr>\n",
       "    <tr>\n",
       "      <th>4</th>\n",
       "      <td>1</td>\n",
       "      <td>10</td>\n",
       "      <td>7</td>\n",
       "      <td>2016-01-10</td>\n",
       "      <td>AA</td>\n",
       "      <td>43</td>\n",
       "      <td>DFW</td>\n",
       "      <td>DTW</td>\n",
       "      <td>100.0</td>\n",
       "      <td>1.0</td>\n",
       "      <td>...</td>\n",
       "      <td>113.0</td>\n",
       "      <td>1.0</td>\n",
       "      <td>0.0</td>\n",
       "      <td>137.0</td>\n",
       "      <td>986.0</td>\n",
       "      <td>0.0</td>\n",
       "      <td>0.0</td>\n",
       "      <td>47.0</td>\n",
       "      <td>0.0</td>\n",
       "      <td>66.0</td>\n",
       "    </tr>\n",
       "  </tbody>\n",
       "</table>\n",
       "<p>5 rows × 22 columns</p>\n",
       "</div>"
      ],
      "text/plain": [
       "   Month  DayofMonth  DayOfWeek  FlightDate Carrier  FlightNum Origin Dest  \\\n",
       "0      1           6          3  2016-01-06      AA         43    DFW  DTW   \n",
       "1      1           7          4  2016-01-07      AA         43    DFW  DTW   \n",
       "2      1           8          5  2016-01-08      AA         43    DFW  DTW   \n",
       "3      1           9          6  2016-01-09      AA         43    DFW  DTW   \n",
       "4      1          10          7  2016-01-10      AA         43    DFW  DTW   \n",
       "\n",
       "   DepDelay  DepDel15        ...          ArrDelay  ArrDel15  Cancelled  \\\n",
       "0      -3.0       0.0        ...              -6.0       0.0        0.0   \n",
       "1      -4.0       0.0        ...             -12.0       0.0        0.0   \n",
       "2      -5.0       0.0        ...               7.0       0.0        0.0   \n",
       "3       2.0       0.0        ...              -5.0       0.0        0.0   \n",
       "4     100.0       1.0        ...             113.0       1.0        0.0   \n",
       "\n",
       "   AirTime  Distance  CarrierDelay  WeatherDelay  NASDelay  SecurityDelay  \\\n",
       "0    132.0     986.0           NaN           NaN       NaN            NaN   \n",
       "1    126.0     986.0           NaN           NaN       NaN            NaN   \n",
       "2    135.0     986.0           NaN           NaN       NaN            NaN   \n",
       "3    129.0     986.0           NaN           NaN       NaN            NaN   \n",
       "4    137.0     986.0           0.0           0.0      47.0            0.0   \n",
       "\n",
       "   LateAircraftDelay  \n",
       "0                NaN  \n",
       "1                NaN  \n",
       "2                NaN  \n",
       "3                NaN  \n",
       "4               66.0  \n",
       "\n",
       "[5 rows x 22 columns]"
      ]
     },
     "execution_count": 5,
     "metadata": {},
     "output_type": "execute_result"
    }
   ],
   "source": [
    "data_delays.head()"
   ]
  },
  {
   "cell_type": "code",
   "execution_count": 6,
   "metadata": {
    "collapsed": false,
    "deletable": true,
    "editable": true
   },
   "outputs": [],
   "source": [
    "# Airport Location Data\n",
    "head_airports = ['Name', 'City', 'Country', 'IATA',\n",
    "                 'Latitude', 'Longitude', 'Altitude',\n",
    "                 'Timezone']\n",
    "data_airports = pd.read_csv(path_airports,\n",
    "                           usecols=[1,2,3,4,6,7,8,9],\n",
    "                           names=head_airports)"
   ]
  },
  {
   "cell_type": "code",
   "execution_count": 7,
   "metadata": {
    "collapsed": false,
    "deletable": true,
    "editable": true
   },
   "outputs": [],
   "source": [
    "# Airport USA Enplanements Data\n",
    "data_emplanes = pd.read_csv(path_emplanes,\n",
    "                           usecols=[2,3,6,7,8],\n",
    "                           thousands=',')\n",
    "data_emplanes.rename(columns={'Locid':'IATA', 'CY 15 Enplanements':'CY15enplane'}, inplace=True)"
   ]
  },
  {
   "cell_type": "code",
   "execution_count": 8,
   "metadata": {
    "collapsed": false,
    "deletable": true,
    "editable": true
   },
   "outputs": [],
   "source": [
    "# Merge Airport Data\n",
    "data_airports_merged = pd.merge(data_emplanes, data_airports, on='IATA', how='left', copy=False)"
   ]
  },
  {
   "cell_type": "code",
   "execution_count": 9,
   "metadata": {
    "collapsed": false,
    "deletable": true,
    "editable": true
   },
   "outputs": [
    {
     "data": {
      "text/html": [
       "<div>\n",
       "<table border=\"1\" class=\"dataframe\">\n",
       "  <thead>\n",
       "    <tr style=\"text-align: right;\">\n",
       "      <th></th>\n",
       "      <th>ST</th>\n",
       "      <th>IATA</th>\n",
       "      <th>S/L</th>\n",
       "      <th>Hub</th>\n",
       "      <th>CY15enplane</th>\n",
       "      <th>Name</th>\n",
       "      <th>City</th>\n",
       "      <th>Country</th>\n",
       "      <th>Latitude</th>\n",
       "      <th>Longitude</th>\n",
       "      <th>Altitude</th>\n",
       "      <th>Timezone</th>\n",
       "    </tr>\n",
       "  </thead>\n",
       "  <tbody>\n",
       "    <tr>\n",
       "      <th>0</th>\n",
       "      <td>GA</td>\n",
       "      <td>ATL</td>\n",
       "      <td>P</td>\n",
       "      <td>L</td>\n",
       "      <td>49340732</td>\n",
       "      <td>Hartsfield Jackson Atlanta International Airport</td>\n",
       "      <td>Atlanta</td>\n",
       "      <td>United States</td>\n",
       "      <td>33.636700</td>\n",
       "      <td>-84.428101</td>\n",
       "      <td>1026.0</td>\n",
       "      <td>-5</td>\n",
       "    </tr>\n",
       "    <tr>\n",
       "      <th>1</th>\n",
       "      <td>CA</td>\n",
       "      <td>LAX</td>\n",
       "      <td>P</td>\n",
       "      <td>L</td>\n",
       "      <td>36351272</td>\n",
       "      <td>Los Angeles International Airport</td>\n",
       "      <td>Los Angeles</td>\n",
       "      <td>United States</td>\n",
       "      <td>33.942501</td>\n",
       "      <td>-118.407997</td>\n",
       "      <td>125.0</td>\n",
       "      <td>-8</td>\n",
       "    </tr>\n",
       "    <tr>\n",
       "      <th>2</th>\n",
       "      <td>IL</td>\n",
       "      <td>ORD</td>\n",
       "      <td>P</td>\n",
       "      <td>L</td>\n",
       "      <td>36305668</td>\n",
       "      <td>Chicago O'Hare International Airport</td>\n",
       "      <td>Chicago</td>\n",
       "      <td>United States</td>\n",
       "      <td>41.978600</td>\n",
       "      <td>-87.904800</td>\n",
       "      <td>672.0</td>\n",
       "      <td>-6</td>\n",
       "    </tr>\n",
       "    <tr>\n",
       "      <th>3</th>\n",
       "      <td>TX</td>\n",
       "      <td>DFW</td>\n",
       "      <td>P</td>\n",
       "      <td>L</td>\n",
       "      <td>31589839</td>\n",
       "      <td>Dallas Fort Worth International Airport</td>\n",
       "      <td>Dallas-Fort Worth</td>\n",
       "      <td>United States</td>\n",
       "      <td>32.896801</td>\n",
       "      <td>-97.038002</td>\n",
       "      <td>607.0</td>\n",
       "      <td>-6</td>\n",
       "    </tr>\n",
       "    <tr>\n",
       "      <th>4</th>\n",
       "      <td>NY</td>\n",
       "      <td>JFK</td>\n",
       "      <td>P</td>\n",
       "      <td>L</td>\n",
       "      <td>27782369</td>\n",
       "      <td>John F Kennedy International Airport</td>\n",
       "      <td>New York</td>\n",
       "      <td>United States</td>\n",
       "      <td>40.639801</td>\n",
       "      <td>-73.778900</td>\n",
       "      <td>13.0</td>\n",
       "      <td>-5</td>\n",
       "    </tr>\n",
       "  </tbody>\n",
       "</table>\n",
       "</div>"
      ],
      "text/plain": [
       "   ST IATA S/L Hub  CY15enplane  \\\n",
       "0  GA  ATL   P   L     49340732   \n",
       "1  CA  LAX   P   L     36351272   \n",
       "2  IL  ORD   P   L     36305668   \n",
       "3  TX  DFW   P   L     31589839   \n",
       "4  NY  JFK   P   L     27782369   \n",
       "\n",
       "                                               Name               City  \\\n",
       "0  Hartsfield Jackson Atlanta International Airport            Atlanta   \n",
       "1                 Los Angeles International Airport        Los Angeles   \n",
       "2              Chicago O'Hare International Airport            Chicago   \n",
       "3           Dallas Fort Worth International Airport  Dallas-Fort Worth   \n",
       "4              John F Kennedy International Airport           New York   \n",
       "\n",
       "         Country   Latitude   Longitude  Altitude Timezone  \n",
       "0  United States  33.636700  -84.428101    1026.0       -5  \n",
       "1  United States  33.942501 -118.407997     125.0       -8  \n",
       "2  United States  41.978600  -87.904800     672.0       -6  \n",
       "3  United States  32.896801  -97.038002     607.0       -6  \n",
       "4  United States  40.639801  -73.778900      13.0       -5  "
      ]
     },
     "execution_count": 9,
     "metadata": {},
     "output_type": "execute_result"
    }
   ],
   "source": [
    "data_airports_merged_us = data_airports_merged[data_airports_merged.Country == \"United States\"]\n",
    "data_airports_merged_us = data_airports_merged_us[data_airports_merged_us.CY15enplane > 100000]\n",
    "data_airports_merged_us.head()"
   ]
  },
  {
   "cell_type": "code",
   "execution_count": 24,
   "metadata": {
    "collapsed": false,
    "deletable": true,
    "editable": true
   },
   "outputs": [
    {
     "name": "stdout",
     "output_type": "stream",
     "text": [
      "There are 37330 matching flights for this filter\n"
     ]
    }
   ],
   "source": [
    "# Create Filter and Mask\n",
    "airports = data_airports_merged_us['IATA'].values\n",
    "carrier = 'UA'                                     # 2 letter carrier code or ALL\n",
    "month = 'SUM'                                           # month (1 - 12, 0 = all)\n",
    "dotw = 'WE'                                            # day of the week (1 - 7, 0 = all)\n",
    "mask, matches = create_mask(data_delays, airports, carrier, month, dotw, warning=1000)\n",
    "print \"There are {:d} matching flights for this filter\".format(matches)"
   ]
  },
  {
   "cell_type": "code",
   "execution_count": 25,
   "metadata": {
    "collapsed": false,
    "deletable": true,
    "editable": true
   },
   "outputs": [],
   "source": [
    "# Information grouped by destination airport\n",
    "groupDest = data_delays[mask].groupby('Dest', as_index=False)\n",
    "\n",
    "num_arr = groupDest.size().to_frame().reset_index().rename(columns={0:'ArrNum'})\n",
    "fraction_delayed = groupDest['ArrDel15'].mean()\n",
    "#med_in_time = groupDest['TaxiIn', 'ArrDelay'].median()\n",
    "mean_in_time = groupDest['TaxiIn', 'ArrDelay'].mean()\n",
    "\n",
    "mergeDest = pd.merge(fraction_delayed, mean_in_time, on=\"Dest\").merge(num_arr, on=\"Dest\")\n",
    "mergeDest.ArrDel15 *= 100\n",
    "mergeDest.rename(columns={'Dest':'IATA', 'ArrDel15':'PercentArrDel15'}, inplace=True)"
   ]
  },
  {
   "cell_type": "code",
   "execution_count": 26,
   "metadata": {
    "collapsed": false,
    "deletable": true,
    "editable": true
   },
   "outputs": [],
   "source": [
    "# Information grouped by origin airport\n",
    "groupOrig = data_delays[mask].groupby('Origin', as_index=False)\n",
    "\n",
    "num_dep = groupOrig.size().to_frame().reset_index().rename(columns={0:'DepNum'})\n",
    "fraction_cancel = groupOrig['Cancelled'].mean()\n",
    "#med_out_time = groupOrig['TaxiOut', 'DepDelay'].median()\n",
    "mean_out_time = groupOrig['TaxiOut', 'DepDelay'].mean()\n",
    "\n",
    "mergeOrig = pd.merge(fraction_cancel, mean_out_time, on=\"Origin\").merge(num_dep, on=\"Origin\")\n",
    "mergeOrig.Cancelled *= 100\n",
    "mergeOrig.rename(columns={'Origin':'IATA', 'Cancelled':'PercentCancelled'}, inplace=True)"
   ]
  },
  {
   "cell_type": "code",
   "execution_count": 27,
   "metadata": {
    "collapsed": false,
    "deletable": true,
    "editable": true
   },
   "outputs": [],
   "source": [
    "# Merge Origin and Destination delay data\n",
    "mergeAll = pd.merge(mergeDest, mergeOrig, on='IATA')"
   ]
  },
  {
   "cell_type": "code",
   "execution_count": 28,
   "metadata": {
    "collapsed": true,
    "deletable": true,
    "editable": true
   },
   "outputs": [],
   "source": [
    "# Merge delay data into the airport information df\n",
    "data_airports_merged_us_wdelay = pd.merge(data_airports_merged_us,\n",
    "                                          mergeAll, on='IATA', how='inner', copy=False)"
   ]
  },
  {
   "cell_type": "code",
   "execution_count": 29,
   "metadata": {
    "collapsed": false,
    "deletable": true,
    "editable": true
   },
   "outputs": [
    {
     "data": {
      "text/html": [
       "<div>\n",
       "<table border=\"1\" class=\"dataframe\">\n",
       "  <thead>\n",
       "    <tr style=\"text-align: right;\">\n",
       "      <th></th>\n",
       "      <th>ST</th>\n",
       "      <th>IATA</th>\n",
       "      <th>S/L</th>\n",
       "      <th>Hub</th>\n",
       "      <th>CY15enplane</th>\n",
       "      <th>Name</th>\n",
       "      <th>City</th>\n",
       "      <th>Country</th>\n",
       "      <th>Latitude</th>\n",
       "      <th>Longitude</th>\n",
       "      <th>Altitude</th>\n",
       "      <th>Timezone</th>\n",
       "      <th>PercentArrDel15</th>\n",
       "      <th>TaxiIn</th>\n",
       "      <th>ArrDelay</th>\n",
       "      <th>ArrNum</th>\n",
       "      <th>PercentCancelled</th>\n",
       "      <th>TaxiOut</th>\n",
       "      <th>DepDelay</th>\n",
       "      <th>DepNum</th>\n",
       "    </tr>\n",
       "  </thead>\n",
       "  <tbody>\n",
       "    <tr>\n",
       "      <th>0</th>\n",
       "      <td>GA</td>\n",
       "      <td>ATL</td>\n",
       "      <td>P</td>\n",
       "      <td>L</td>\n",
       "      <td>49340732</td>\n",
       "      <td>Hartsfield Jackson Atlanta International Airport</td>\n",
       "      <td>Atlanta</td>\n",
       "      <td>United States</td>\n",
       "      <td>33.636700</td>\n",
       "      <td>-84.428101</td>\n",
       "      <td>1026.0</td>\n",
       "      <td>-5</td>\n",
       "      <td>21.891892</td>\n",
       "      <td>9.094086</td>\n",
       "      <td>4.872973</td>\n",
       "      <td>374</td>\n",
       "      <td>1.078167</td>\n",
       "      <td>18.689373</td>\n",
       "      <td>12.024523</td>\n",
       "      <td>371</td>\n",
       "    </tr>\n",
       "    <tr>\n",
       "      <th>1</th>\n",
       "      <td>CA</td>\n",
       "      <td>LAX</td>\n",
       "      <td>P</td>\n",
       "      <td>L</td>\n",
       "      <td>36351272</td>\n",
       "      <td>Los Angeles International Airport</td>\n",
       "      <td>Los Angeles</td>\n",
       "      <td>United States</td>\n",
       "      <td>33.942501</td>\n",
       "      <td>-118.407997</td>\n",
       "      <td>125.0</td>\n",
       "      <td>-8</td>\n",
       "      <td>26.240079</td>\n",
       "      <td>16.192593</td>\n",
       "      <td>11.256944</td>\n",
       "      <td>2040</td>\n",
       "      <td>0.840336</td>\n",
       "      <td>17.795115</td>\n",
       "      <td>15.973606</td>\n",
       "      <td>2023</td>\n",
       "    </tr>\n",
       "    <tr>\n",
       "      <th>2</th>\n",
       "      <td>IL</td>\n",
       "      <td>ORD</td>\n",
       "      <td>P</td>\n",
       "      <td>L</td>\n",
       "      <td>36305668</td>\n",
       "      <td>Chicago O'Hare International Airport</td>\n",
       "      <td>Chicago</td>\n",
       "      <td>United States</td>\n",
       "      <td>41.978600</td>\n",
       "      <td>-87.904800</td>\n",
       "      <td>672.0</td>\n",
       "      <td>-6</td>\n",
       "      <td>20.229645</td>\n",
       "      <td>12.423133</td>\n",
       "      <td>6.092067</td>\n",
       "      <td>4850</td>\n",
       "      <td>0.737403</td>\n",
       "      <td>19.429839</td>\n",
       "      <td>21.576320</td>\n",
       "      <td>4882</td>\n",
       "    </tr>\n",
       "    <tr>\n",
       "      <th>3</th>\n",
       "      <td>TX</td>\n",
       "      <td>DFW</td>\n",
       "      <td>P</td>\n",
       "      <td>L</td>\n",
       "      <td>31589839</td>\n",
       "      <td>Dallas Fort Worth International Airport</td>\n",
       "      <td>Dallas-Fort Worth</td>\n",
       "      <td>United States</td>\n",
       "      <td>32.896801</td>\n",
       "      <td>-97.038002</td>\n",
       "      <td>607.0</td>\n",
       "      <td>-6</td>\n",
       "      <td>28.911565</td>\n",
       "      <td>8.503378</td>\n",
       "      <td>11.459184</td>\n",
       "      <td>298</td>\n",
       "      <td>1.365188</td>\n",
       "      <td>18.456747</td>\n",
       "      <td>11.442907</td>\n",
       "      <td>293</td>\n",
       "    </tr>\n",
       "    <tr>\n",
       "      <th>4</th>\n",
       "      <td>CO</td>\n",
       "      <td>DEN</td>\n",
       "      <td>P</td>\n",
       "      <td>L</td>\n",
       "      <td>26280043</td>\n",
       "      <td>Denver International Airport</td>\n",
       "      <td>Denver</td>\n",
       "      <td>United States</td>\n",
       "      <td>39.861698</td>\n",
       "      <td>-104.672997</td>\n",
       "      <td>5431.0</td>\n",
       "      <td>-7</td>\n",
       "      <td>12.152778</td>\n",
       "      <td>8.361419</td>\n",
       "      <td>-2.933532</td>\n",
       "      <td>4072</td>\n",
       "      <td>0.196560</td>\n",
       "      <td>15.269079</td>\n",
       "      <td>8.835057</td>\n",
       "      <td>4070</td>\n",
       "    </tr>\n",
       "  </tbody>\n",
       "</table>\n",
       "</div>"
      ],
      "text/plain": [
       "   ST IATA S/L Hub  CY15enplane  \\\n",
       "0  GA  ATL   P   L     49340732   \n",
       "1  CA  LAX   P   L     36351272   \n",
       "2  IL  ORD   P   L     36305668   \n",
       "3  TX  DFW   P   L     31589839   \n",
       "4  CO  DEN   P   L     26280043   \n",
       "\n",
       "                                               Name               City  \\\n",
       "0  Hartsfield Jackson Atlanta International Airport            Atlanta   \n",
       "1                 Los Angeles International Airport        Los Angeles   \n",
       "2              Chicago O'Hare International Airport            Chicago   \n",
       "3           Dallas Fort Worth International Airport  Dallas-Fort Worth   \n",
       "4                      Denver International Airport             Denver   \n",
       "\n",
       "         Country   Latitude   Longitude  Altitude Timezone  PercentArrDel15  \\\n",
       "0  United States  33.636700  -84.428101    1026.0       -5        21.891892   \n",
       "1  United States  33.942501 -118.407997     125.0       -8        26.240079   \n",
       "2  United States  41.978600  -87.904800     672.0       -6        20.229645   \n",
       "3  United States  32.896801  -97.038002     607.0       -6        28.911565   \n",
       "4  United States  39.861698 -104.672997    5431.0       -7        12.152778   \n",
       "\n",
       "      TaxiIn   ArrDelay  ArrNum  PercentCancelled    TaxiOut   DepDelay  \\\n",
       "0   9.094086   4.872973     374          1.078167  18.689373  12.024523   \n",
       "1  16.192593  11.256944    2040          0.840336  17.795115  15.973606   \n",
       "2  12.423133   6.092067    4850          0.737403  19.429839  21.576320   \n",
       "3   8.503378  11.459184     298          1.365188  18.456747  11.442907   \n",
       "4   8.361419  -2.933532    4072          0.196560  15.269079   8.835057   \n",
       "\n",
       "   DepNum  \n",
       "0     371  \n",
       "1    2023  \n",
       "2    4882  \n",
       "3     293  \n",
       "4    4070  "
      ]
     },
     "execution_count": 29,
     "metadata": {},
     "output_type": "execute_result"
    }
   ],
   "source": [
    "data_airports_merged_us_wdelay.head()"
   ]
  },
  {
   "cell_type": "code",
   "execution_count": 30,
   "metadata": {
    "collapsed": false,
    "deletable": true,
    "editable": true
   },
   "outputs": [
    {
     "data": {
      "text/plain": [
       "<matplotlib.axes._subplots.AxesSubplot at 0x116972490>"
      ]
     },
     "execution_count": 30,
     "metadata": {},
     "output_type": "execute_result"
    },
    {
     "data": {
      "image/png": "[encoded data removed]",
      "text/plain": [
       "<matplotlib.figure.Figure at 0x11683efd0>"
      ]
     },
     "metadata": {},
     "output_type": "display_data"
    }
   ],
   "source": [
    "sns.regplot('ArrDelay', 'PercentArrDel15', data=mergeDest[mergeDest.ArrNum > 10])"
   ]
  },
  {
   "cell_type": "code",
   "execution_count": 31,
   "metadata": {
    "collapsed": false,
    "deletable": true,
    "editable": true
   },
   "outputs": [
    {
     "data": {
      "text/plain": [
       "<matplotlib.axes._subplots.AxesSubplot at 0x1163e5250>"
      ]
     },
     "execution_count": 31,
     "metadata": {},
     "output_type": "execute_result"
    },
    {
     "data": {
      "image/png": "[encoded data removed]",
      "text/plain": [
       "<matplotlib.figure.Figure at 0x11629bc50>"
      ]
     },
     "metadata": {},
     "output_type": "display_data"
    }
   ],
   "source": [
    "sns.regplot('TaxiIn', 'PercentArrDel15', data=mergeDest[mergeDest.ArrNum > 10])"
   ]
  },
  {
   "cell_type": "code",
   "execution_count": 32,
   "metadata": {
    "collapsed": false,
    "deletable": true,
    "editable": true
   },
   "outputs": [
    {
     "data": {
      "text/plain": [
       "<matplotlib.axes._subplots.AxesSubplot at 0x114cce510>"
      ]
     },
     "execution_count": 32,
     "metadata": {},
     "output_type": "execute_result"
    },
    {
     "data": {
      "image/png": "[encoded data removed]",
      "text/plain": [
       "<matplotlib.figure.Figure at 0x114cf6390>"
      ]
     },
     "metadata": {},
     "output_type": "display_data"
    }
   ],
   "source": [
    "sns.regplot('TaxiIn', 'ArrDelay', data=mergeDest[mergeDest.ArrNum > 10])"
   ]
  },
  {
   "cell_type": "code",
   "execution_count": 33,
   "metadata": {
    "collapsed": false,
    "deletable": true,
    "editable": true
   },
   "outputs": [
    {
     "data": {
      "text/plain": [
       "<matplotlib.axes._subplots.AxesSubplot at 0x114d21550>"
      ]
     },
     "execution_count": 33,
     "metadata": {},
     "output_type": "execute_result"
    },
    {
     "data": {
      "image/png": "[encoded data removed]",
      "text/plain": [
       "<matplotlib.figure.Figure at 0x114d7d610>"
      ]
     },
     "metadata": {},
     "output_type": "display_data"
    }
   ],
   "source": [
    "sns.regplot('TaxiOut', 'DepDelay', data=mergeOrig[mergeOrig.DepNum > 10], color='green')"
   ]
  },
  {
   "cell_type": "code",
   "execution_count": 34,
   "metadata": {
    "collapsed": false,
    "deletable": true,
    "editable": true
   },
   "outputs": [
    {
     "name": "stdout",
     "output_type": "stream",
     "text": [
      "0.378232143775 -56.0512781145 48.4457451496\n"
     ]
    },
    {
     "data": {
      "image/png": "[encoded data removed]",
      "text/plain": [
       "<matplotlib.figure.Figure at 0x11608c590>"
      ]
     },
     "metadata": {},
     "output_type": "display_data"
    }
   ],
   "source": [
    "a = data_delays[mask]['ArrDelay'].dropna()\n",
    "a_sampled = np.random.choice(a, size=2000, replace=False)\n",
    "a_sampled = a_sampled[(a_sampled < 75) & (a_sampled > -50)]\n",
    "shape, loc, scale = lognorm.fit(a_sampled, 0.1, loc=-50, scale=40)\n",
    "x = np.linspace(-50,350,201)\n",
    "d = lognorm.pdf(x, shape, loc, scale)\n",
    "sns.distplot(a, bins=x, kde=False, norm_hist=True)\n",
    "plt.plot(x, d, color='black')\n",
    "sns.plt.xlim(-50,150)\n",
    "print shape, loc, scale"
   ]
  },
  {
   "cell_type": "code",
   "execution_count": 35,
   "metadata": {
    "collapsed": false,
    "deletable": true,
    "editable": true
   },
   "outputs": [
    {
     "name": "stdout",
     "output_type": "stream",
     "text": [
      "0.556006685484 0.4963248351 6.60728324542\n"
     ]
    },
    {
     "data": {
      "image/png": "[encoded data removed]",
      "text/plain": [
       "<matplotlib.figure.Figure at 0x114dcfe50>"
      ]
     },
     "metadata": {},
     "output_type": "display_data"
    }
   ],
   "source": [
    "a = data_delays[mask]['TaxiIn'].dropna()\n",
    "a_sampled = np.random.choice(a, size=1000, replace=False)\n",
    "a_sampled = a_sampled[(a_sampled < 30) & (a_sampled > 0)]\n",
    "shape, loc, scale = lognorm.fit(a_sampled, 0.5, loc=1, scale=5)\n",
    "x = np.linspace(0,200,201)\n",
    "d = lognorm.pdf(x, shape, loc, scale)\n",
    "sns.distplot(a, bins=x, kde=False, norm_hist=True)\n",
    "plt.plot(x, d, color='black')\n",
    "sns.plt.xlim(0,50)\n",
    "print shape, loc, scale"
   ]
  },
  {
   "cell_type": "code",
   "execution_count": 36,
   "metadata": {
    "collapsed": false,
    "deletable": true,
    "editable": true
   },
   "outputs": [
    {
     "name": "stdout",
     "output_type": "stream",
     "text": [
      "0.442934128043 -20.0747360303 20.3532847869\n"
     ]
    },
    {
     "data": {
      "image/png": "[encoded data removed]",
      "text/plain": [
       "<matplotlib.figure.Figure at 0x114df3dd0>"
      ]
     },
     "metadata": {},
     "output_type": "display_data"
    }
   ],
   "source": [
    "a = data_delays[mask]['DepDelay'].dropna()\n",
    "a_sampled = np.random.choice(a, size=2000, replace=False)\n",
    "a_sampled = a_sampled[(a_sampled < 50) & (a_sampled > -20)]\n",
    "shape, loc, scale = lognorm.fit(a_sampled,1, loc=-20, scale=15)\n",
    "x = np.linspace(-50,350,201)\n",
    "d = lognorm.pdf(x, shape, loc, scale)\n",
    "sns.distplot(a, bins=x, color='green', kde=False, norm_hist=True)\n",
    "plt.plot(x, d, color='black')\n",
    "sns.plt.xlim(-50,150)\n",
    "print shape, loc, scale"
   ]
  },
  {
   "cell_type": "code",
   "execution_count": 37,
   "metadata": {
    "collapsed": false,
    "deletable": true,
    "editable": true
   },
   "outputs": [
    {
     "name": "stdout",
     "output_type": "stream",
     "text": [
      "0.58746843985 6.17644726912 8.60163606128\n"
     ]
    },
    {
     "data": {
      "image/png": "[encoded data removed]",
      "text/plain": [
       "<matplotlib.figure.Figure at 0x114d9d110>"
      ]
     },
     "metadata": {},
     "output_type": "display_data"
    }
   ],
   "source": [
    "a = data_delays[mask]['TaxiOut'].dropna()\n",
    "a_sampled = np.random.choice(a, size=1000, replace=False)\n",
    "a_sampled = a_sampled[(a_sampled < 50) & (a_sampled > 0)]\n",
    "shape, loc, scale = lognorm.fit(a_sampled, 0.5, loc=4, scale=10)\n",
    "x = np.linspace(0,200,201)\n",
    "d = lognorm.pdf(x, shape, loc, scale)\n",
    "sns.distplot(a, bins=x, color='green', kde=False, norm_hist=True)\n",
    "plt.plot(x, d, color='black')\n",
    "sns.plt.xlim(0,50)\n",
    "print shape, loc, scale"
   ]
  },
  {
   "cell_type": "code",
   "execution_count": null,
   "metadata": {
    "collapsed": true,
    "deletable": true,
    "editable": true
   },
   "outputs": [],
   "source": []
  },
  {
   "cell_type": "code",
   "execution_count": null,
   "metadata": {
    "collapsed": true
   },
   "outputs": [],
   "source": []
  }
 ],
 "metadata": {
  "kernelspec": {
   "display_name": "Python 2",
   "language": "python",
   "name": "python2"
  },
  "language_info": {
   "codemirror_mode": {
    "name": "ipython",
    "version": 2
   },
   "file_extension": ".py",
   "mimetype": "text/x-python",
   "name": "python",
   "nbconvert_exporter": "python",
   "pygments_lexer": "ipython2",
   "version": "2.7.13"
  }
 },
 "nbformat": 4,
 "nbformat_minor": 2
}
