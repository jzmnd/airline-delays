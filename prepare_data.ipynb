{
 "cells": [
  {
   "cell_type": "code",
   "execution_count": 1,
   "metadata": {
    "collapsed": false,
    "deletable": true,
    "editable": true
   },
   "outputs": [],
   "source": [
    "%matplotlib inline"
   ]
  },
  {
   "cell_type": "code",
   "execution_count": 2,
   "metadata": {
    "collapsed": false,
    "deletable": true,
    "editable": true
   },
   "outputs": [],
   "source": [
    "import os\n",
    "import sys\n",
    "import numpy as np\n",
    "import pandas as pd\n",
    "import matplotlib.pyplot as plt\n",
    "import seaborn as sns\n",
    "import statsmodels\n",
    "from maskfunctions import create_mask\n",
    "from scipy.stats import lognorm\n",
    "from scipy.stats import gamma"
   ]
  },
  {
   "cell_type": "code",
   "execution_count": null,
   "metadata": {
    "collapsed": true,
    "deletable": true,
    "editable": true
   },
   "outputs": [],
   "source": [
    "# Location and names of data files\n",
    "data_dir = \"/Users/jeremysmith/Documents/BTS_Airline_Data/\"\n",
    "file_pre = \"On_Time_On_Time_Performance_2016\"\n",
    "path_airports = os.path.join(data_dir, \"airports.dat\")\n",
    "path_emplanes = os.path.join(data_dir, \"cy15-commercial-service-enplanements.csv\")"
   ]
  },
  {
   "cell_type": "code",
   "execution_count": null,
   "metadata": {
    "collapsed": false,
    "deletable": true,
    "editable": true
   },
   "outputs": [],
   "source": [
    "# Delay Data\n",
    "data_list = []\n",
    "usecols = [2,3,4,5,8,10,14,23,31,33,36,39,42,44,47,52,54,56,57,58,59,60]\n",
    "for month in range(12):\n",
    "    file_month = \"{:s}_{:02d}\".format(file_pre, month + 1)\n",
    "    path_month = os.path.join(data_dir, file_month, file_month + \".csv\")\n",
    "    data_list.append(pd.read_csv(path_month, usecols=usecols))\n",
    "data_delays = pd.concat(data_list, ignore_index=True)"
   ]
  },
  {
   "cell_type": "code",
   "execution_count": null,
   "metadata": {
    "collapsed": false,
    "deletable": true,
    "editable": true
   },
   "outputs": [],
   "source": [
    "data_delays.head()"
   ]
  },
  {
   "cell_type": "code",
   "execution_count": null,
   "metadata": {
    "collapsed": false,
    "deletable": true,
    "editable": true
   },
   "outputs": [],
   "source": [
    "# Airport Location Data\n",
    "head_airports = ['Name', 'City', 'Country', 'IATA',\n",
    "                 'Latitude', 'Longitude', 'Altitude',\n",
    "                 'Timezone']\n",
    "data_airports = pd.read_csv(path_airports,\n",
    "                           usecols=[1,2,3,4,6,7,8,9],\n",
    "                           names=head_airports)"
   ]
  },
  {
   "cell_type": "code",
   "execution_count": null,
   "metadata": {
    "collapsed": false,
    "deletable": true,
    "editable": true
   },
   "outputs": [],
   "source": [
    "# Airport USA Enplanements Data\n",
    "data_emplanes = pd.read_csv(path_emplanes,\n",
    "                           usecols=[2,3,6,7,8],\n",
    "                           thousands=',')\n",
    "data_emplanes.rename(columns={'Locid':'IATA', 'CY 15 Enplanements':'CY15enplane'}, inplace=True)"
   ]
  },
  {
   "cell_type": "code",
   "execution_count": null,
   "metadata": {
    "collapsed": false,
    "deletable": true,
    "editable": true
   },
   "outputs": [],
   "source": [
    "# Merge Airport Data\n",
    "data_airports_merged = pd.merge(data_emplanes, data_airports, on='IATA', how='left', copy=False)"
   ]
  },
  {
   "cell_type": "code",
   "execution_count": null,
   "metadata": {
    "collapsed": false,
    "deletable": true,
    "editable": true
   },
   "outputs": [],
   "source": [
    "data_airports_merged_us = data_airports_merged[data_airports_merged.Country == \"United States\"]\n",
    "data_airports_merged_us = data_airports_merged_us[data_airports_merged_us.CY15enplane > 100000]\n",
    "data_airports_merged_us.head()"
   ]
  },
  {
   "cell_type": "code",
   "execution_count": null,
   "metadata": {
    "collapsed": true,
    "deletable": true,
    "editable": true
   },
   "outputs": [],
   "source": [
    "# Output Airport Data Without Delay Data Embedded\n",
    "data_airports_merged_us.to_csv(\"visualization/airports.csv\")"
   ]
  },
  {
   "cell_type": "code",
   "execution_count": null,
   "metadata": {
    "collapsed": false,
    "deletable": true,
    "editable": true
   },
   "outputs": [],
   "source": [
    "# Create Filter and Mask\n",
    "airports = data_airports_merged_us['IATA'].values\n",
    "carrier = 'ALL'                                     # 2 letter carrier code or ALL\n",
    "month = 0                                           # month (1 - 12, 0 = all)\n",
    "dotw = 0                                            # day of the week (1 - 7, 0 = all)\n",
    "mask, matches = create_mask(data_delays, airports, carrier, month, dotw)\n",
    "print \"There are {:d} matching flights for this filter\".format(matches)"
   ]
  },
  {
   "cell_type": "code",
   "execution_count": null,
   "metadata": {
    "collapsed": false,
    "deletable": true,
    "editable": true
   },
   "outputs": [],
   "source": [
    "# Information grouped by destination airport\n",
    "groupDest = data_delays[mask].groupby('Dest', as_index=False)\n",
    "\n",
    "num_arr = groupDest.size().to_frame().reset_index().rename(columns={0:'ArrNum'})\n",
    "fraction_delayed = groupDest['ArrDel15'].mean()\n",
    "med_in_time = groupDest['TaxiIn','ArrDelay'].median()\n",
    "mergeDest = pd.merge(fraction_delayed, med_in_time, on=\"Dest\").merge(num_arr, on=\"Dest\")\n",
    "mergeDest.ArrDel15 *= 100\n",
    "mergeDest.rename(columns={'Dest':'IATA', 'ArrDel15':'PercentArrDel15'}, inplace=True)"
   ]
  },
  {
   "cell_type": "code",
   "execution_count": null,
   "metadata": {
    "collapsed": false,
    "deletable": true,
    "editable": true
   },
   "outputs": [],
   "source": [
    "# Information grouped by origin airport\n",
    "groupOrig = data_delays[mask].groupby('Origin', as_index=False)\n",
    "\n",
    "num_dep = groupOrig.size().to_frame().reset_index().rename(columns={0:'DepNum'})\n",
    "fraction_cancel = groupOrig['Cancelled'].mean()\n",
    "med_out_time = groupOrig['TaxiOut', 'DepDelay'].median()\n",
    "mergeOrig = pd.merge(fraction_cancel, med_out_time, on=\"Origin\").merge(num_dep, on=\"Origin\")\n",
    "mergeOrig.Cancelled *= 100\n",
    "mergeOrig.rename(columns={'Origin':'IATA', 'Cancelled':'PercentCancelled'}, inplace=True)"
   ]
  },
  {
   "cell_type": "code",
   "execution_count": null,
   "metadata": {
    "collapsed": false,
    "deletable": true,
    "editable": true
   },
   "outputs": [],
   "source": [
    "# Merge Origin and Destination delay data\n",
    "mergeAll = pd.merge(mergeDest, mergeOrig, on='IATA')"
   ]
  },
  {
   "cell_type": "code",
   "execution_count": null,
   "metadata": {
    "collapsed": true,
    "deletable": true,
    "editable": true
   },
   "outputs": [],
   "source": [
    "# Merge delay data into the airport information df\n",
    "data_airports_merged_us_wdelay = pd.merge(data_airports_merged_us,\n",
    "                                          mergeAll, on='IATA', how='inner', copy=False)"
   ]
  },
  {
   "cell_type": "code",
   "execution_count": null,
   "metadata": {
    "collapsed": false,
    "deletable": true,
    "editable": true
   },
   "outputs": [],
   "source": [
    "data_airports_merged_us_wdelay.head()"
   ]
  },
  {
   "cell_type": "code",
   "execution_count": null,
   "metadata": {
    "collapsed": true,
    "deletable": true,
    "editable": true
   },
   "outputs": [],
   "source": [
    "# Output Airport Data With Delay Data Embedded\n",
    "data_airports_merged_us_wdelay.to_csv(\"visualization/airports_wdelaydata_{:s}.csv\".format(carrier))"
   ]
  },
  {
   "cell_type": "code",
   "execution_count": null,
   "metadata": {
    "collapsed": false,
    "deletable": true,
    "editable": true
   },
   "outputs": [],
   "source": [
    "sns.regplot('ArrDelay', 'PercentArrDel15', data=mergeDest[mergeDest.ArrNum > 10])"
   ]
  },
  {
   "cell_type": "code",
   "execution_count": null,
   "metadata": {
    "collapsed": false,
    "deletable": true,
    "editable": true
   },
   "outputs": [],
   "source": [
    "sns.regplot('TaxiIn', 'PercentArrDel15', data=mergeDest[mergeDest.ArrNum > 10])"
   ]
  },
  {
   "cell_type": "code",
   "execution_count": null,
   "metadata": {
    "collapsed": false,
    "deletable": true,
    "editable": true
   },
   "outputs": [],
   "source": [
    "sns.regplot('TaxiIn', 'ArrDelay', data=mergeDest[mergeDest.ArrNum > 10])"
   ]
  },
  {
   "cell_type": "code",
   "execution_count": null,
   "metadata": {
    "collapsed": false,
    "deletable": true,
    "editable": true
   },
   "outputs": [],
   "source": [
    "sns.regplot('TaxiOut', 'DepDelay', data=mergeOrig[mergeOrig.DepNum > 10], color='green')"
   ]
  },
  {
   "cell_type": "code",
   "execution_count": null,
   "metadata": {
    "collapsed": false,
    "deletable": true,
    "editable": true
   },
   "outputs": [],
   "source": [
    "a = data_delays[mask]['ArrDelay'].dropna()\n",
    "a_sampled = np.random.choice(a, size=2000, replace=False)\n",
    "a_sampled = a_sampled[(a_sampled < 75) & (a_sampled > -50)]\n",
    "shape, loc, scale = lognorm.fit(a_sampled, 0.1, loc=-50, scale=40)\n",
    "x = np.linspace(-50,350,201)\n",
    "d = lognorm.pdf(x, shape, loc, scale)\n",
    "sns.distplot(a, bins=x, kde=False, norm_hist=True)\n",
    "plt.plot(x, d, color='black')\n",
    "sns.plt.xlim(-50,150)\n",
    "print shape, loc, scale"
   ]
  },
  {
   "cell_type": "code",
   "execution_count": null,
   "metadata": {
    "collapsed": false,
    "deletable": true,
    "editable": true
   },
   "outputs": [],
   "source": [
    "a = data_delays[mask]['TaxiIn'].dropna()\n",
    "a_sampled = np.random.choice(a, size=1000, replace=False)\n",
    "a_sampled = a_sampled[(a_sampled < 30) & (a_sampled > 0)]\n",
    "shape, loc, scale = lognorm.fit(a_sampled, 0.5, loc=1, scale=5)\n",
    "x = np.linspace(0,200,201)\n",
    "d = lognorm.pdf(x, shape, loc, scale)\n",
    "sns.distplot(a, bins=x, kde=False, norm_hist=True)\n",
    "plt.plot(x, d, color='black')\n",
    "sns.plt.xlim(0,50)\n",
    "print shape, loc, scale"
   ]
  },
  {
   "cell_type": "code",
   "execution_count": null,
   "metadata": {
    "collapsed": false,
    "deletable": true,
    "editable": true
   },
   "outputs": [],
   "source": [
    "a = data_delays[mask]['DepDelay'].dropna()\n",
    "a_sampled = np.random.choice(a, size=2000, replace=False)\n",
    "a_sampled = a_sampled[(a_sampled < 50) & (a_sampled > -20)]\n",
    "shape, loc, scale = lognorm.fit(a_sampled,1, loc=-20, scale=15)\n",
    "x = np.linspace(-50,350,201)\n",
    "d = lognorm.pdf(x, shape, loc, scale)\n",
    "sns.distplot(a, bins=x, color='green', kde=False, norm_hist=True)\n",
    "plt.plot(x, d, color='black')\n",
    "sns.plt.xlim(-50,150)\n",
    "print shape, loc, scale"
   ]
  },
  {
   "cell_type": "code",
   "execution_count": null,
   "metadata": {
    "collapsed": false,
    "deletable": true,
    "editable": true
   },
   "outputs": [],
   "source": [
    "a = data_delays[mask]['TaxiOut'].dropna()\n",
    "a_sampled = np.random.choice(a, size=1000, replace=False)\n",
    "a_sampled = a_sampled[(a_sampled < 50) & (a_sampled > 0)]\n",
    "shape, loc, scale = lognorm.fit(a_sampled, 0.5, loc=4, scale=10)\n",
    "x = np.linspace(0,200,201)\n",
    "d = lognorm.pdf(x, shape, loc, scale)\n",
    "sns.distplot(a, bins=x, color='green', kde=False, norm_hist=True)\n",
    "plt.plot(x, d, color='black')\n",
    "sns.plt.xlim(0,50)\n",
    "print shape, loc, scale"
   ]
  },
  {
   "cell_type": "code",
   "execution_count": null,
   "metadata": {
    "collapsed": true,
    "deletable": true,
    "editable": true
   },
   "outputs": [],
   "source": []
  }
 ],
 "metadata": {
  "kernelspec": {
   "display_name": "Python 2",
   "language": "python",
   "name": "python2"
  },
  "language_info": {
   "codemirror_mode": {
    "name": "ipython",
    "version": 2
   },
   "file_extension": ".py",
   "mimetype": "text/x-python",
   "name": "python",
   "nbconvert_exporter": "python",
   "pygments_lexer": "ipython2",
   "version": "2.7.13"
  }
 },
 "nbformat": 4,
 "nbformat_minor": 2
}
