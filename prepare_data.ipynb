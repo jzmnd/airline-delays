{
 "cells": [
  {
   "cell_type": "code",
   "execution_count": 1,
   "metadata": {
    "collapsed": false,
    "deletable": true,
    "editable": true
   },
   "outputs": [],
   "source": [
    "%matplotlib inline"
   ]
  },
  {
   "cell_type": "code",
   "execution_count": 2,
   "metadata": {
    "collapsed": false,
    "deletable": true,
    "editable": true
   },
   "outputs": [],
   "source": [
    "import os\n",
    "import sys\n",
    "import numpy as np\n",
    "import pandas as pd\n",
    "import itertools as it\n",
    "import matplotlib.pyplot as plt\n",
    "import seaborn as sns\n",
    "from maskfunctions import *"
   ]
  },
  {
   "cell_type": "code",
   "execution_count": 3,
   "metadata": {
    "collapsed": true,
    "deletable": true,
    "editable": true
   },
   "outputs": [],
   "source": [
    "# Location and names of data files\n",
    "data_dir = \"/Users/jeremysmith/Documents/BTS_Airline_Data/\"\n",
    "file_pre = \"On_Time_On_Time_Performance_2016\"\n",
    "path_airports = os.path.join(data_dir, \"airports.dat\")\n",
    "path_emplanes = os.path.join(data_dir, \"cy15-commercial-service-enplanements.csv\")"
   ]
  },
  {
   "cell_type": "code",
   "execution_count": 4,
   "metadata": {
    "collapsed": false,
    "deletable": true,
    "editable": true
   },
   "outputs": [],
   "source": [
    "# Delay Data\n",
    "data_list = []\n",
    "for month in range(12):\n",
    "    file_month = \"{:s}_{:02d}\".format(file_pre, month + 1)\n",
    "    path_month = os.path.join(data_dir, file_month, file_month + \".csv\")\n",
    "    data_list.append(pd.read_csv(path_month,\n",
    "                                usecols=[2,3,4,5,8,10,14,23,31,33,36,39,42,44,47,52,54,56,57,58,59,60]))\n",
    "data_delays = pd.concat(data_list, ignore_index=True)"
   ]
  },
  {
   "cell_type": "code",
   "execution_count": 5,
   "metadata": {
    "collapsed": false,
    "deletable": true,
    "editable": true
   },
   "outputs": [
    {
     "data": {
      "text/html": [
       "<div>\n",
       "<table border=\"1\" class=\"dataframe\">\n",
       "  <thead>\n",
       "    <tr style=\"text-align: right;\">\n",
       "      <th></th>\n",
       "      <th>Month</th>\n",
       "      <th>DayofMonth</th>\n",
       "      <th>DayOfWeek</th>\n",
       "      <th>FlightDate</th>\n",
       "      <th>Carrier</th>\n",
       "      <th>FlightNum</th>\n",
       "      <th>Origin</th>\n",
       "      <th>Dest</th>\n",
       "      <th>DepDelay</th>\n",
       "      <th>DepDel15</th>\n",
       "      <th>...</th>\n",
       "      <th>ArrDelay</th>\n",
       "      <th>ArrDel15</th>\n",
       "      <th>Cancelled</th>\n",
       "      <th>AirTime</th>\n",
       "      <th>Distance</th>\n",
       "      <th>CarrierDelay</th>\n",
       "      <th>WeatherDelay</th>\n",
       "      <th>NASDelay</th>\n",
       "      <th>SecurityDelay</th>\n",
       "      <th>LateAircraftDelay</th>\n",
       "    </tr>\n",
       "  </thead>\n",
       "  <tbody>\n",
       "    <tr>\n",
       "      <th>0</th>\n",
       "      <td>1</td>\n",
       "      <td>6</td>\n",
       "      <td>3</td>\n",
       "      <td>2016-01-06</td>\n",
       "      <td>AA</td>\n",
       "      <td>43</td>\n",
       "      <td>DFW</td>\n",
       "      <td>DTW</td>\n",
       "      <td>-3.0</td>\n",
       "      <td>0.0</td>\n",
       "      <td>...</td>\n",
       "      <td>-6.0</td>\n",
       "      <td>0.0</td>\n",
       "      <td>0.0</td>\n",
       "      <td>132.0</td>\n",
       "      <td>986.0</td>\n",
       "      <td>NaN</td>\n",
       "      <td>NaN</td>\n",
       "      <td>NaN</td>\n",
       "      <td>NaN</td>\n",
       "      <td>NaN</td>\n",
       "    </tr>\n",
       "    <tr>\n",
       "      <th>1</th>\n",
       "      <td>1</td>\n",
       "      <td>7</td>\n",
       "      <td>4</td>\n",
       "      <td>2016-01-07</td>\n",
       "      <td>AA</td>\n",
       "      <td>43</td>\n",
       "      <td>DFW</td>\n",
       "      <td>DTW</td>\n",
       "      <td>-4.0</td>\n",
       "      <td>0.0</td>\n",
       "      <td>...</td>\n",
       "      <td>-12.0</td>\n",
       "      <td>0.0</td>\n",
       "      <td>0.0</td>\n",
       "      <td>126.0</td>\n",
       "      <td>986.0</td>\n",
       "      <td>NaN</td>\n",
       "      <td>NaN</td>\n",
       "      <td>NaN</td>\n",
       "      <td>NaN</td>\n",
       "      <td>NaN</td>\n",
       "    </tr>\n",
       "    <tr>\n",
       "      <th>2</th>\n",
       "      <td>1</td>\n",
       "      <td>8</td>\n",
       "      <td>5</td>\n",
       "      <td>2016-01-08</td>\n",
       "      <td>AA</td>\n",
       "      <td>43</td>\n",
       "      <td>DFW</td>\n",
       "      <td>DTW</td>\n",
       "      <td>-5.0</td>\n",
       "      <td>0.0</td>\n",
       "      <td>...</td>\n",
       "      <td>7.0</td>\n",
       "      <td>0.0</td>\n",
       "      <td>0.0</td>\n",
       "      <td>135.0</td>\n",
       "      <td>986.0</td>\n",
       "      <td>NaN</td>\n",
       "      <td>NaN</td>\n",
       "      <td>NaN</td>\n",
       "      <td>NaN</td>\n",
       "      <td>NaN</td>\n",
       "    </tr>\n",
       "    <tr>\n",
       "      <th>3</th>\n",
       "      <td>1</td>\n",
       "      <td>9</td>\n",
       "      <td>6</td>\n",
       "      <td>2016-01-09</td>\n",
       "      <td>AA</td>\n",
       "      <td>43</td>\n",
       "      <td>DFW</td>\n",
       "      <td>DTW</td>\n",
       "      <td>2.0</td>\n",
       "      <td>0.0</td>\n",
       "      <td>...</td>\n",
       "      <td>-5.0</td>\n",
       "      <td>0.0</td>\n",
       "      <td>0.0</td>\n",
       "      <td>129.0</td>\n",
       "      <td>986.0</td>\n",
       "      <td>NaN</td>\n",
       "      <td>NaN</td>\n",
       "      <td>NaN</td>\n",
       "      <td>NaN</td>\n",
       "      <td>NaN</td>\n",
       "    </tr>\n",
       "    <tr>\n",
       "      <th>4</th>\n",
       "      <td>1</td>\n",
       "      <td>10</td>\n",
       "      <td>7</td>\n",
       "      <td>2016-01-10</td>\n",
       "      <td>AA</td>\n",
       "      <td>43</td>\n",
       "      <td>DFW</td>\n",
       "      <td>DTW</td>\n",
       "      <td>100.0</td>\n",
       "      <td>1.0</td>\n",
       "      <td>...</td>\n",
       "      <td>113.0</td>\n",
       "      <td>1.0</td>\n",
       "      <td>0.0</td>\n",
       "      <td>137.0</td>\n",
       "      <td>986.0</td>\n",
       "      <td>0.0</td>\n",
       "      <td>0.0</td>\n",
       "      <td>47.0</td>\n",
       "      <td>0.0</td>\n",
       "      <td>66.0</td>\n",
       "    </tr>\n",
       "  </tbody>\n",
       "</table>\n",
       "<p>5 rows × 22 columns</p>\n",
       "</div>"
      ],
      "text/plain": [
       "   Month  DayofMonth  DayOfWeek  FlightDate Carrier  FlightNum Origin Dest  \\\n",
       "0      1           6          3  2016-01-06      AA         43    DFW  DTW   \n",
       "1      1           7          4  2016-01-07      AA         43    DFW  DTW   \n",
       "2      1           8          5  2016-01-08      AA         43    DFW  DTW   \n",
       "3      1           9          6  2016-01-09      AA         43    DFW  DTW   \n",
       "4      1          10          7  2016-01-10      AA         43    DFW  DTW   \n",
       "\n",
       "   DepDelay  DepDel15        ...          ArrDelay  ArrDel15  Cancelled  \\\n",
       "0      -3.0       0.0        ...              -6.0       0.0        0.0   \n",
       "1      -4.0       0.0        ...             -12.0       0.0        0.0   \n",
       "2      -5.0       0.0        ...               7.0       0.0        0.0   \n",
       "3       2.0       0.0        ...              -5.0       0.0        0.0   \n",
       "4     100.0       1.0        ...             113.0       1.0        0.0   \n",
       "\n",
       "   AirTime  Distance  CarrierDelay  WeatherDelay  NASDelay  SecurityDelay  \\\n",
       "0    132.0     986.0           NaN           NaN       NaN            NaN   \n",
       "1    126.0     986.0           NaN           NaN       NaN            NaN   \n",
       "2    135.0     986.0           NaN           NaN       NaN            NaN   \n",
       "3    129.0     986.0           NaN           NaN       NaN            NaN   \n",
       "4    137.0     986.0           0.0           0.0      47.0            0.0   \n",
       "\n",
       "   LateAircraftDelay  \n",
       "0                NaN  \n",
       "1                NaN  \n",
       "2                NaN  \n",
       "3                NaN  \n",
       "4               66.0  \n",
       "\n",
       "[5 rows x 22 columns]"
      ]
     },
     "execution_count": 5,
     "metadata": {},
     "output_type": "execute_result"
    }
   ],
   "source": [
    "data_delays.head()"
   ]
  },
  {
   "cell_type": "code",
   "execution_count": 6,
   "metadata": {
    "collapsed": false,
    "deletable": true,
    "editable": true
   },
   "outputs": [],
   "source": [
    "# Airport Location Data\n",
    "head_airports = ['Name', 'City', 'Country', 'IATA',\n",
    "                 'Latitude', 'Longitude', 'Altitude',\n",
    "                 'Timezone']\n",
    "data_airports = pd.read_csv(path_airports,\n",
    "                           usecols=[1,2,3,4,6,7,8,9],\n",
    "                           names=head_airports)"
   ]
  },
  {
   "cell_type": "code",
   "execution_count": 7,
   "metadata": {
    "collapsed": false,
    "deletable": true,
    "editable": true
   },
   "outputs": [],
   "source": [
    "# Airport USA Enplanements Data\n",
    "data_emplanes = pd.read_csv(path_emplanes,\n",
    "                           usecols=[2,3,6,7,8],\n",
    "                           thousands=',')\n",
    "data_emplanes.rename(columns={'Locid':'IATA', 'CY 15 Enplanements':'CY15enplane'}, inplace=True)"
   ]
  },
  {
   "cell_type": "code",
   "execution_count": 8,
   "metadata": {
    "collapsed": false,
    "deletable": true,
    "editable": true
   },
   "outputs": [],
   "source": [
    "# Merge Airport Data\n",
    "data_airports_merged = pd.merge(data_emplanes, data_airports, on='IATA', how='left', copy=False)"
   ]
  },
  {
   "cell_type": "code",
   "execution_count": 9,
   "metadata": {
    "collapsed": false,
    "deletable": true,
    "editable": true
   },
   "outputs": [
    {
     "data": {
      "text/html": [
       "<div>\n",
       "<table border=\"1\" class=\"dataframe\">\n",
       "  <thead>\n",
       "    <tr style=\"text-align: right;\">\n",
       "      <th></th>\n",
       "      <th>ST</th>\n",
       "      <th>IATA</th>\n",
       "      <th>S/L</th>\n",
       "      <th>Hub</th>\n",
       "      <th>CY15enplane</th>\n",
       "      <th>Name</th>\n",
       "      <th>City</th>\n",
       "      <th>Country</th>\n",
       "      <th>Latitude</th>\n",
       "      <th>Longitude</th>\n",
       "      <th>Altitude</th>\n",
       "      <th>Timezone</th>\n",
       "    </tr>\n",
       "  </thead>\n",
       "  <tbody>\n",
       "    <tr>\n",
       "      <th>0</th>\n",
       "      <td>GA</td>\n",
       "      <td>ATL</td>\n",
       "      <td>P</td>\n",
       "      <td>L</td>\n",
       "      <td>49340732</td>\n",
       "      <td>Hartsfield Jackson Atlanta International Airport</td>\n",
       "      <td>Atlanta</td>\n",
       "      <td>United States</td>\n",
       "      <td>33.636700</td>\n",
       "      <td>-84.428101</td>\n",
       "      <td>1026.0</td>\n",
       "      <td>-5</td>\n",
       "    </tr>\n",
       "    <tr>\n",
       "      <th>1</th>\n",
       "      <td>CA</td>\n",
       "      <td>LAX</td>\n",
       "      <td>P</td>\n",
       "      <td>L</td>\n",
       "      <td>36351272</td>\n",
       "      <td>Los Angeles International Airport</td>\n",
       "      <td>Los Angeles</td>\n",
       "      <td>United States</td>\n",
       "      <td>33.942501</td>\n",
       "      <td>-118.407997</td>\n",
       "      <td>125.0</td>\n",
       "      <td>-8</td>\n",
       "    </tr>\n",
       "    <tr>\n",
       "      <th>2</th>\n",
       "      <td>IL</td>\n",
       "      <td>ORD</td>\n",
       "      <td>P</td>\n",
       "      <td>L</td>\n",
       "      <td>36305668</td>\n",
       "      <td>Chicago O'Hare International Airport</td>\n",
       "      <td>Chicago</td>\n",
       "      <td>United States</td>\n",
       "      <td>41.978600</td>\n",
       "      <td>-87.904800</td>\n",
       "      <td>672.0</td>\n",
       "      <td>-6</td>\n",
       "    </tr>\n",
       "    <tr>\n",
       "      <th>3</th>\n",
       "      <td>TX</td>\n",
       "      <td>DFW</td>\n",
       "      <td>P</td>\n",
       "      <td>L</td>\n",
       "      <td>31589839</td>\n",
       "      <td>Dallas Fort Worth International Airport</td>\n",
       "      <td>Dallas-Fort Worth</td>\n",
       "      <td>United States</td>\n",
       "      <td>32.896801</td>\n",
       "      <td>-97.038002</td>\n",
       "      <td>607.0</td>\n",
       "      <td>-6</td>\n",
       "    </tr>\n",
       "    <tr>\n",
       "      <th>4</th>\n",
       "      <td>NY</td>\n",
       "      <td>JFK</td>\n",
       "      <td>P</td>\n",
       "      <td>L</td>\n",
       "      <td>27782369</td>\n",
       "      <td>John F Kennedy International Airport</td>\n",
       "      <td>New York</td>\n",
       "      <td>United States</td>\n",
       "      <td>40.639801</td>\n",
       "      <td>-73.778900</td>\n",
       "      <td>13.0</td>\n",
       "      <td>-5</td>\n",
       "    </tr>\n",
       "  </tbody>\n",
       "</table>\n",
       "</div>"
      ],
      "text/plain": [
       "   ST IATA S/L Hub  CY15enplane  \\\n",
       "0  GA  ATL   P   L     49340732   \n",
       "1  CA  LAX   P   L     36351272   \n",
       "2  IL  ORD   P   L     36305668   \n",
       "3  TX  DFW   P   L     31589839   \n",
       "4  NY  JFK   P   L     27782369   \n",
       "\n",
       "                                               Name               City  \\\n",
       "0  Hartsfield Jackson Atlanta International Airport            Atlanta   \n",
       "1                 Los Angeles International Airport        Los Angeles   \n",
       "2              Chicago O'Hare International Airport            Chicago   \n",
       "3           Dallas Fort Worth International Airport  Dallas-Fort Worth   \n",
       "4              John F Kennedy International Airport           New York   \n",
       "\n",
       "         Country   Latitude   Longitude  Altitude Timezone  \n",
       "0  United States  33.636700  -84.428101    1026.0       -5  \n",
       "1  United States  33.942501 -118.407997     125.0       -8  \n",
       "2  United States  41.978600  -87.904800     672.0       -6  \n",
       "3  United States  32.896801  -97.038002     607.0       -6  \n",
       "4  United States  40.639801  -73.778900      13.0       -5  "
      ]
     },
     "execution_count": 9,
     "metadata": {},
     "output_type": "execute_result"
    }
   ],
   "source": [
    "data_airports_merged_us = data_airports_merged[data_airports_merged.Country == \"United States\"]\n",
    "data_airports_merged_us = data_airports_merged_us[data_airports_merged_us.CY15enplane > 100000]\n",
    "data_airports_merged_us.head()"
   ]
  },
  {
   "cell_type": "code",
   "execution_count": 10,
   "metadata": {
    "collapsed": true,
    "deletable": true,
    "editable": true
   },
   "outputs": [],
   "source": [
    "# Output Airport Data Without Delay Data Embedded\n",
    "data_airports_merged_us.to_csv(\"visualization/airports.csv\")"
   ]
  },
  {
   "cell_type": "code",
   "execution_count": 405,
   "metadata": {
    "collapsed": false
   },
   "outputs": [
    {
     "name": "stdout",
     "output_type": "stream",
     "text": [
      "There are 5508157 matching flights for this filter\n"
     ]
    }
   ],
   "source": [
    "# Create Filter and Mask\n",
    "airports = data_airports_merged_us['IATA'].values\n",
    "carrier = 'ALL'                                     # 2 letter carrier code or ALL\n",
    "month = 0                                           # month (1 - 12, 0 = all)\n",
    "dotw = 0                                            # day of the week (1 - 7, 0 = all)\n",
    "mask, matches = create_mask(data_delays, airports, carrier, month, dotw)\n",
    "print \"There are {:d} matching flights for this filter\".format(matches)"
   ]
  },
  {
   "cell_type": "code",
   "execution_count": 406,
   "metadata": {
    "collapsed": false,
    "deletable": true,
    "editable": true
   },
   "outputs": [],
   "source": [
    "# Information grouped by destination airport\n",
    "groupDest = data_delays[mask].groupby('Dest', as_index=False)\n",
    "\n",
    "num_arr = groupDest.size().to_frame().reset_index().rename(columns={0:'ArrNum'})\n",
    "fraction_delayed = groupDest['ArrDel15'].mean()\n",
    "med_in_time = groupDest['TaxiIn','ArrDelay'].median()\n",
    "mergeDest = pd.merge(fraction_delayed, med_in_time, on=\"Dest\").merge(num_arr, on=\"Dest\")\n",
    "mergeDest.ArrDel15 *= 100\n",
    "mergeDest.rename(columns={'Dest':'IATA', 'ArrDel15':'PercentArrDel15'}, inplace=True)"
   ]
  },
  {
   "cell_type": "code",
   "execution_count": 407,
   "metadata": {
    "collapsed": false,
    "deletable": true,
    "editable": true
   },
   "outputs": [],
   "source": [
    "# Information grouped by origin airport\n",
    "groupOrig = data_delays[mask].groupby('Origin', as_index=False)\n",
    "\n",
    "num_dep = groupOrig.size().to_frame().reset_index().rename(columns={0:'DepNum'})\n",
    "fraction_cancel = groupOrig['Cancelled'].mean()\n",
    "med_out_time = groupOrig['TaxiOut', 'DepDelay'].median()\n",
    "mergeOrig = pd.merge(fraction_cancel, med_out_time, on=\"Origin\").merge(num_dep, on=\"Origin\")\n",
    "mergeOrig.Cancelled *= 100\n",
    "mergeOrig.rename(columns={'Origin':'IATA', 'Cancelled':'PercentCancelled'}, inplace=True)"
   ]
  },
  {
   "cell_type": "code",
   "execution_count": 408,
   "metadata": {
    "collapsed": false
   },
   "outputs": [],
   "source": [
    "# Merge Origin and Destination delay data\n",
    "mergeAll = pd.merge(mergeDest, mergeOrig, on='IATA')"
   ]
  },
  {
   "cell_type": "code",
   "execution_count": 409,
   "metadata": {
    "collapsed": true
   },
   "outputs": [],
   "source": [
    "# Merge delay data into the airport information df\n",
    "data_airports_merged_us_wdelay = pd.merge(data_airports_merged_us, mergeAll, on='IATA', how='left', copy=False)"
   ]
  },
  {
   "cell_type": "code",
   "execution_count": 472,
   "metadata": {
    "collapsed": false
   },
   "outputs": [
    {
     "data": {
      "text/html": [
       "<div>\n",
       "<table border=\"1\" class=\"dataframe\">\n",
       "  <thead>\n",
       "    <tr style=\"text-align: right;\">\n",
       "      <th></th>\n",
       "      <th>ST</th>\n",
       "      <th>IATA</th>\n",
       "      <th>S/L</th>\n",
       "      <th>Hub</th>\n",
       "      <th>CY15enplane</th>\n",
       "      <th>Name</th>\n",
       "      <th>City</th>\n",
       "      <th>Country</th>\n",
       "      <th>Latitude</th>\n",
       "      <th>Longitude</th>\n",
       "      <th>Altitude</th>\n",
       "      <th>Timezone</th>\n",
       "      <th>PercentArrDel15</th>\n",
       "      <th>TaxiIn</th>\n",
       "      <th>ArrDelay</th>\n",
       "      <th>ArrNum</th>\n",
       "      <th>PercentCancelled</th>\n",
       "      <th>TaxiOut</th>\n",
       "      <th>DepDelay</th>\n",
       "      <th>DepNum</th>\n",
       "    </tr>\n",
       "  </thead>\n",
       "  <tbody>\n",
       "    <tr>\n",
       "      <th>0</th>\n",
       "      <td>GA</td>\n",
       "      <td>ATL</td>\n",
       "      <td>P</td>\n",
       "      <td>L</td>\n",
       "      <td>49340732</td>\n",
       "      <td>Hartsfield Jackson Atlanta International Airport</td>\n",
       "      <td>Atlanta</td>\n",
       "      <td>United States</td>\n",
       "      <td>33.636700</td>\n",
       "      <td>-84.428101</td>\n",
       "      <td>1026.0</td>\n",
       "      <td>-5</td>\n",
       "      <td>13.021813</td>\n",
       "      <td>7.0</td>\n",
       "      <td>-10.0</td>\n",
       "      <td>374492.0</td>\n",
       "      <td>0.584325</td>\n",
       "      <td>15.0</td>\n",
       "      <td>-1.0</td>\n",
       "      <td>384375.0</td>\n",
       "    </tr>\n",
       "    <tr>\n",
       "      <th>1</th>\n",
       "      <td>CA</td>\n",
       "      <td>LAX</td>\n",
       "      <td>P</td>\n",
       "      <td>L</td>\n",
       "      <td>36351272</td>\n",
       "      <td>Los Angeles International Airport</td>\n",
       "      <td>Los Angeles</td>\n",
       "      <td>United States</td>\n",
       "      <td>33.942501</td>\n",
       "      <td>-118.407997</td>\n",
       "      <td>125.0</td>\n",
       "      <td>-8</td>\n",
       "      <td>23.284165</td>\n",
       "      <td>10.0</td>\n",
       "      <td>-2.0</td>\n",
       "      <td>212823.0</td>\n",
       "      <td>0.891620</td>\n",
       "      <td>16.0</td>\n",
       "      <td>0.0</td>\n",
       "      <td>212983.0</td>\n",
       "    </tr>\n",
       "    <tr>\n",
       "      <th>2</th>\n",
       "      <td>IL</td>\n",
       "      <td>ORD</td>\n",
       "      <td>P</td>\n",
       "      <td>L</td>\n",
       "      <td>36305668</td>\n",
       "      <td>Chicago O'Hare International Airport</td>\n",
       "      <td>Chicago</td>\n",
       "      <td>United States</td>\n",
       "      <td>41.978600</td>\n",
       "      <td>-87.904800</td>\n",
       "      <td>672.0</td>\n",
       "      <td>-6</td>\n",
       "      <td>18.809349</td>\n",
       "      <td>11.0</td>\n",
       "      <td>-7.0</td>\n",
       "      <td>237305.0</td>\n",
       "      <td>1.622406</td>\n",
       "      <td>17.0</td>\n",
       "      <td>-1.0</td>\n",
       "      <td>244082.0</td>\n",
       "    </tr>\n",
       "    <tr>\n",
       "      <th>3</th>\n",
       "      <td>TX</td>\n",
       "      <td>DFW</td>\n",
       "      <td>P</td>\n",
       "      <td>L</td>\n",
       "      <td>31589839</td>\n",
       "      <td>Dallas Fort Worth International Airport</td>\n",
       "      <td>Dallas-Fort Worth</td>\n",
       "      <td>United States</td>\n",
       "      <td>32.896801</td>\n",
       "      <td>-97.038002</td>\n",
       "      <td>607.0</td>\n",
       "      <td>-6</td>\n",
       "      <td>18.000621</td>\n",
       "      <td>10.0</td>\n",
       "      <td>-6.0</td>\n",
       "      <td>183403.0</td>\n",
       "      <td>1.167565</td>\n",
       "      <td>16.0</td>\n",
       "      <td>-2.0</td>\n",
       "      <td>196049.0</td>\n",
       "    </tr>\n",
       "    <tr>\n",
       "      <th>4</th>\n",
       "      <td>NY</td>\n",
       "      <td>JFK</td>\n",
       "      <td>P</td>\n",
       "      <td>L</td>\n",
       "      <td>27782369</td>\n",
       "      <td>John F Kennedy International Airport</td>\n",
       "      <td>New York</td>\n",
       "      <td>United States</td>\n",
       "      <td>40.639801</td>\n",
       "      <td>-73.778900</td>\n",
       "      <td>13.0</td>\n",
       "      <td>-5</td>\n",
       "      <td>22.293996</td>\n",
       "      <td>8.0</td>\n",
       "      <td>-6.0</td>\n",
       "      <td>91718.0</td>\n",
       "      <td>1.236816</td>\n",
       "      <td>22.0</td>\n",
       "      <td>-1.0</td>\n",
       "      <td>97751.0</td>\n",
       "    </tr>\n",
       "  </tbody>\n",
       "</table>\n",
       "</div>"
      ],
      "text/plain": [
       "   ST IATA S/L Hub  CY15enplane  \\\n",
       "0  GA  ATL   P   L     49340732   \n",
       "1  CA  LAX   P   L     36351272   \n",
       "2  IL  ORD   P   L     36305668   \n",
       "3  TX  DFW   P   L     31589839   \n",
       "4  NY  JFK   P   L     27782369   \n",
       "\n",
       "                                               Name               City  \\\n",
       "0  Hartsfield Jackson Atlanta International Airport            Atlanta   \n",
       "1                 Los Angeles International Airport        Los Angeles   \n",
       "2              Chicago O'Hare International Airport            Chicago   \n",
       "3           Dallas Fort Worth International Airport  Dallas-Fort Worth   \n",
       "4              John F Kennedy International Airport           New York   \n",
       "\n",
       "         Country   Latitude   Longitude  Altitude Timezone  PercentArrDel15  \\\n",
       "0  United States  33.636700  -84.428101    1026.0       -5        13.021813   \n",
       "1  United States  33.942501 -118.407997     125.0       -8        23.284165   \n",
       "2  United States  41.978600  -87.904800     672.0       -6        18.809349   \n",
       "3  United States  32.896801  -97.038002     607.0       -6        18.000621   \n",
       "4  United States  40.639801  -73.778900      13.0       -5        22.293996   \n",
       "\n",
       "   TaxiIn  ArrDelay    ArrNum  PercentCancelled  TaxiOut  DepDelay    DepNum  \n",
       "0     7.0     -10.0  374492.0          0.584325     15.0      -1.0  384375.0  \n",
       "1    10.0      -2.0  212823.0          0.891620     16.0       0.0  212983.0  \n",
       "2    11.0      -7.0  237305.0          1.622406     17.0      -1.0  244082.0  \n",
       "3    10.0      -6.0  183403.0          1.167565     16.0      -2.0  196049.0  \n",
       "4     8.0      -6.0   91718.0          1.236816     22.0      -1.0   97751.0  "
      ]
     },
     "execution_count": 472,
     "metadata": {},
     "output_type": "execute_result"
    }
   ],
   "source": [
    "data_airports_merged_us_wdelay.head()"
   ]
  },
  {
   "cell_type": "code",
   "execution_count": 411,
   "metadata": {
    "collapsed": false
   },
   "outputs": [
    {
     "data": {
      "text/plain": [
       "<matplotlib.axes._subplots.AxesSubplot at 0x167e4d490>"
      ]
     },
     "execution_count": 411,
     "metadata": {},
     "output_type": "execute_result"
    },
    {
     "data": {
      "image/png": "[encoded data removed]",
      "text/plain": [
       "<matplotlib.figure.Figure at 0x16728bd10>"
      ]
     },
     "metadata": {},
     "output_type": "display_data"
    }
   ],
   "source": [
    "sns.regplot('ArrDelay', 'PercentArrDel15', data=mergeDest[mergeDest.ArrNum > 10])"
   ]
  },
  {
   "cell_type": "code",
   "execution_count": 412,
   "metadata": {
    "collapsed": false
   },
   "outputs": [
    {
     "data": {
      "text/plain": [
       "<matplotlib.axes._subplots.AxesSubplot at 0x15e065810>"
      ]
     },
     "execution_count": 412,
     "metadata": {},
     "output_type": "execute_result"
    },
    {
     "data": {
      "image/png": "[encoded data removed]",
      "text/plain": [
       "<matplotlib.figure.Figure at 0x163607490>"
      ]
     },
     "metadata": {},
     "output_type": "display_data"
    }
   ],
   "source": [
    "sns.regplot('TaxiIn', 'PercentArrDel15', data=mergeDest[mergeDest.ArrNum > 10])"
   ]
  },
  {
   "cell_type": "code",
   "execution_count": 413,
   "metadata": {
    "collapsed": false
   },
   "outputs": [
    {
     "data": {
      "text/plain": [
       "<matplotlib.axes._subplots.AxesSubplot at 0x16ad84110>"
      ]
     },
     "execution_count": 413,
     "metadata": {},
     "output_type": "execute_result"
    },
    {
     "data": {
      "image/png": "[encoded data removed]",
      "text/plain": [
       "<matplotlib.figure.Figure at 0x15dc02750>"
      ]
     },
     "metadata": {},
     "output_type": "display_data"
    }
   ],
   "source": [
    "sns.regplot('TaxiIn', 'ArrDelay', data=mergeDest[mergeDest.ArrNum > 10])"
   ]
  },
  {
   "cell_type": "code",
   "execution_count": 414,
   "metadata": {
    "collapsed": false
   },
   "outputs": [
    {
     "data": {
      "text/plain": [
       "<matplotlib.axes._subplots.AxesSubplot at 0x1632cb350>"
      ]
     },
     "execution_count": 414,
     "metadata": {},
     "output_type": "execute_result"
    },
    {
     "data": {
      "image/png": "[encoded data removed]",
      "text/plain": [
       "<matplotlib.figure.Figure at 0x15e01d3d0>"
      ]
     },
     "metadata": {},
     "output_type": "display_data"
    }
   ],
   "source": [
    "sns.regplot('TaxiOut', 'DepDelay', data=mergeOrig[mergeOrig.DepNum > 10], color='green')"
   ]
  },
  {
   "cell_type": "code",
   "execution_count": 471,
   "metadata": {
    "collapsed": false
   },
   "outputs": [
    {
     "data": {
      "text/plain": [
       "(-50, 150)"
      ]
     },
     "execution_count": 471,
     "metadata": {},
     "output_type": "execute_result"
    },
    {
     "data": {
      "image/png": "[encoded data removed]",
      "text/plain": [
       "<matplotlib.figure.Figure at 0x167e5afd0>"
      ]
     },
     "metadata": {},
     "output_type": "display_data"
    }
   ],
   "source": [
    "a = data_delays[mask]['ArrDelay'].dropna()\n",
    "sns.distplot(a, bins=int(2 * a.max()), kde=False)\n",
    "sns.plt.xlim(-50,150)"
   ]
  },
  {
   "cell_type": "code",
   "execution_count": 456,
   "metadata": {
    "collapsed": false
   },
   "outputs": [
    {
     "data": {
      "text/plain": [
       "(0, 50)"
      ]
     },
     "execution_count": 456,
     "metadata": {},
     "output_type": "execute_result"
    },
    {
     "data": {
      "image/png": "[encoded data removed]",
      "text/plain": [
       "<matplotlib.figure.Figure at 0x15c133890>"
      ]
     },
     "metadata": {},
     "output_type": "display_data"
    }
   ],
   "source": [
    "a = data_delays[mask]['TaxiIn'].dropna()\n",
    "sns.distplot(a, bins=int(a.max()), kde=False)\n",
    "sns.plt.xlim(0,50)"
   ]
  },
  {
   "cell_type": "code",
   "execution_count": 469,
   "metadata": {
    "collapsed": false
   },
   "outputs": [
    {
     "data": {
      "text/plain": [
       "(-50, 150)"
      ]
     },
     "execution_count": 469,
     "metadata": {},
     "output_type": "execute_result"
    },
    {
     "data": {
      "image/png": "[encoded data removed]",
      "text/plain": [
       "<matplotlib.figure.Figure at 0x169763410>"
      ]
     },
     "metadata": {},
     "output_type": "display_data"
    }
   ],
   "source": [
    "a = data_delays[mask]['DepDelay'].dropna()\n",
    "sns.distplot(a, bins=int(2 * a.max()), color='green', kde=False)\n",
    "sns.plt.xlim(-50,150)"
   ]
  },
  {
   "cell_type": "code",
   "execution_count": 462,
   "metadata": {
    "collapsed": false
   },
   "outputs": [
    {
     "data": {
      "text/plain": [
       "(0, 50)"
      ]
     },
     "execution_count": 462,
     "metadata": {},
     "output_type": "execute_result"
    },
    {
     "data": {
      "image/png": "[encoded data removed]",
      "text/plain": [
       "<matplotlib.figure.Figure at 0x12471d250>"
      ]
     },
     "metadata": {},
     "output_type": "display_data"
    }
   ],
   "source": [
    "a = data_delays[mask]['TaxiOut'].dropna()\n",
    "sns.distplot(a, bins=int(a.max()), color='green', kde=False)\n",
    "sns.plt.xlim(0,50)"
   ]
  },
  {
   "cell_type": "code",
   "execution_count": null,
   "metadata": {
    "collapsed": true
   },
   "outputs": [],
   "source": []
  },
  {
   "cell_type": "code",
   "execution_count": null,
   "metadata": {
    "collapsed": true
   },
   "outputs": [],
   "source": []
  }
 ],
 "metadata": {
  "kernelspec": {
   "display_name": "Python 2",
   "language": "python",
   "name": "python2"
  },
  "language_info": {
   "codemirror_mode": {
    "name": "ipython",
    "version": 2
   },
   "file_extension": ".py",
   "mimetype": "text/x-python",
   "name": "python",
   "nbconvert_exporter": "python",
   "pygments_lexer": "ipython2",
   "version": "2.7.13"
  }
 },
 "nbformat": 4,
 "nbformat_minor": 2
}
